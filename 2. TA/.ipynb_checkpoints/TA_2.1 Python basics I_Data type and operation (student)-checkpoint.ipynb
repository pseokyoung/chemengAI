{
 "cells": [
  {
   "cell_type": "markdown",
   "metadata": {
    "id": "ZwjBKXobid9N"
   },
   "source": [
    "자료형"
   ]
  },
  {
   "cell_type": "markdown",
   "metadata": {
    "id": "vDPMBXYGigVQ"
   },
   "source": [
    "자료형 이란? 프로그래밍 할 때 쓰이는 숫자, 문자열 등 자료 형태로 사용하는 모든 것\n",
    "- 수치 자료형\n",
    "- 군집 자료형\n",
    "- 불 자료형"
   ]
  },
  {
   "cell_type": "markdown",
   "metadata": {
    "id": "p7yyW5HFjZHb"
   },
   "source": [
    "# 1. 숫자"
   ]
  },
  {
   "cell_type": "markdown",
   "metadata": {
    "id": "g57HlVULjhjY"
   },
   "source": [
    "숫자 형태로 이루어진 자료형"
   ]
  },
  {
   "cell_type": "markdown",
   "metadata": {
    "id": "IfDo8dS4jwMk"
   },
   "source": [
    "## 정수형"
   ]
  },
  {
   "cell_type": "markdown",
   "metadata": {
    "id": "7MOZd6SFjyFA"
   },
   "source": [
    "정수를 뜻하는 수치 자료형\n",
    "- `123`\n",
    "- `-178`\n",
    "- `0`"
   ]
  },
  {
   "cell_type": "markdown",
   "metadata": {
    "id": "yKQHpIeZrsCR"
   },
   "source": [
    "> Q. 숫자 123의 데이터형을 판별하시오."
   ]
  },
  {
   "cell_type": "code",
   "execution_count": null,
   "metadata": {
    "executionInfo": {
     "elapsed": 9,
     "status": "ok",
     "timestamp": 1646354579699,
     "user": {
      "displayName": "SEOKYOUNG HONG",
      "photoUrl": "https://lh3.googleusercontent.com/a-/AOh14GhDWs7x7DIW6ojjAzZixwoXjdctw0qH43nbiGv66A=s64",
      "userId": "07450407400923564793"
     },
     "user_tz": -540
    },
    "id": "p6wgq9J2jeug"
   },
   "outputs": [],
   "source": []
  },
  {
   "cell_type": "markdown",
   "metadata": {
    "id": "eQqjsfqckJ1x"
   },
   "source": [
    "## 실수형"
   ]
  },
  {
   "cell_type": "markdown",
   "metadata": {
    "id": "j3lk56gGkLu0"
   },
   "source": [
    "소수점이 포함된 수치 자료형\n",
    "- `1.2`\n",
    "- `-3.45`"
   ]
  },
  {
   "cell_type": "markdown",
   "metadata": {
    "id": "yKnl2-QQr87F"
   },
   "source": [
    "> Q. 숫자 1.2의 데이터형을 판별하시오."
   ]
  },
  {
   "cell_type": "code",
   "execution_count": null,
   "metadata": {
    "executionInfo": {
     "elapsed": 8,
     "status": "ok",
     "timestamp": 1646354579700,
     "user": {
      "displayName": "SEOKYOUNG HONG",
      "photoUrl": "https://lh3.googleusercontent.com/a-/AOh14GhDWs7x7DIW6ojjAzZixwoXjdctw0qH43nbiGv66A=s64",
      "userId": "07450407400923564793"
     },
     "user_tz": -540
    },
    "id": "Ni6KtiAakLXx"
   },
   "outputs": [],
   "source": []
  },
  {
   "cell_type": "markdown",
   "metadata": {
    "id": "3UDE-MMnkh8a"
   },
   "source": [
    "컴퓨터식 지수 표현 방식\n",
    "- `42400 = 4.24E4`\n",
    "- `0.0424 = 4.24e-2`"
   ]
  },
  {
   "cell_type": "markdown",
   "metadata": {
    "id": "pGcFYUgEr_Sk"
   },
   "source": [
    "> Q. 실수 1024와 0.1024를 \"컴퓨터식 지수 표현 방식\"을 이용하여 나타내시오."
   ]
  },
  {
   "cell_type": "code",
   "execution_count": null,
   "metadata": {
    "executionInfo": {
     "elapsed": 8,
     "status": "ok",
     "timestamp": 1646354579700,
     "user": {
      "displayName": "SEOKYOUNG HONG",
      "photoUrl": "https://lh3.googleusercontent.com/a-/AOh14GhDWs7x7DIW6ojjAzZixwoXjdctw0qH43nbiGv66A=s64",
      "userId": "07450407400923564793"
     },
     "user_tz": -540
    },
    "id": "DLCxdMWRkfB_"
   },
   "outputs": [],
   "source": []
  },
  {
   "cell_type": "code",
   "execution_count": null,
   "metadata": {
    "executionInfo": {
     "elapsed": 8,
     "status": "ok",
     "timestamp": 1646354579700,
     "user": {
      "displayName": "SEOKYOUNG HONG",
      "photoUrl": "https://lh3.googleusercontent.com/a-/AOh14GhDWs7x7DIW6ojjAzZixwoXjdctw0qH43nbiGv66A=s64",
      "userId": "07450407400923564793"
     },
     "user_tz": -540
    },
    "id": "1hfK16JTshFM"
   },
   "outputs": [],
   "source": []
  },
  {
   "cell_type": "markdown",
   "metadata": {
    "id": "wpB2TCXPlTmZ"
   },
   "source": [
    "## 수치 자료형 연산\n"
   ]
  },
  {
   "cell_type": "code",
   "execution_count": null,
   "metadata": {
    "executionInfo": {
     "elapsed": 8,
     "status": "ok",
     "timestamp": 1646354579701,
     "user": {
      "displayName": "SEOKYOUNG HONG",
      "photoUrl": "https://lh3.googleusercontent.com/a-/AOh14GhDWs7x7DIW6ojjAzZixwoXjdctw0qH43nbiGv66A=s64",
      "userId": "07450407400923564793"
     },
     "user_tz": -540
    },
    "id": "CedN5mcNwmSO"
   },
   "outputs": [],
   "source": []
  },
  {
   "cell_type": "code",
   "execution_count": null,
   "metadata": {
    "executionInfo": {
     "elapsed": 8,
     "status": "ok",
     "timestamp": 1646354579701,
     "user": {
      "displayName": "SEOKYOUNG HONG",
      "photoUrl": "https://lh3.googleusercontent.com/a-/AOh14GhDWs7x7DIW6ojjAzZixwoXjdctw0qH43nbiGv66A=s64",
      "userId": "07450407400923564793"
     },
     "user_tz": -540
    },
    "id": "n35axUgKwnyh"
   },
   "outputs": [],
   "source": []
  },
  {
   "cell_type": "code",
   "execution_count": null,
   "metadata": {
    "executionInfo": {
     "elapsed": 8,
     "status": "ok",
     "timestamp": 1646354579701,
     "user": {
      "displayName": "SEOKYOUNG HONG",
      "photoUrl": "https://lh3.googleusercontent.com/a-/AOh14GhDWs7x7DIW6ojjAzZixwoXjdctw0qH43nbiGv66A=s64",
      "userId": "07450407400923564793"
     },
     "user_tz": -540
    },
    "id": "-4dyV4kcw1EL"
   },
   "outputs": [],
   "source": []
  },
  {
   "cell_type": "code",
   "execution_count": null,
   "metadata": {
    "executionInfo": {
     "elapsed": 8,
     "status": "ok",
     "timestamp": 1646354579701,
     "user": {
      "displayName": "SEOKYOUNG HONG",
      "photoUrl": "https://lh3.googleusercontent.com/a-/AOh14GhDWs7x7DIW6ojjAzZixwoXjdctw0qH43nbiGv66A=s64",
      "userId": "07450407400923564793"
     },
     "user_tz": -540
    },
    "id": "IoVszZoGw2Ih"
   },
   "outputs": [],
   "source": []
  },
  {
   "cell_type": "code",
   "execution_count": null,
   "metadata": {
    "executionInfo": {
     "elapsed": 9,
     "status": "ok",
     "timestamp": 1646354579702,
     "user": {
      "displayName": "SEOKYOUNG HONG",
      "photoUrl": "https://lh3.googleusercontent.com/a-/AOh14GhDWs7x7DIW6ojjAzZixwoXjdctw0qH43nbiGv66A=s64",
      "userId": "07450407400923564793"
     },
     "user_tz": -540
    },
    "id": "jm_he5Q8w2u3"
   },
   "outputs": [],
   "source": []
  },
  {
   "cell_type": "markdown",
   "metadata": {
    "id": "f6_qMWEol9bd"
   },
   "source": [
    "거듭제곱과 나눗셈\n",
    "- `**`: 거듭제곱\n",
    "- `//`: 몫\n",
    "- `%`: 나머지"
   ]
  },
  {
   "cell_type": "markdown",
   "metadata": {
    "id": "yuQPLKqMszEx"
   },
   "source": [
    "> Q. $3^4$ 을 5로 나눈 몫과 나머지를 각 각 구하시오."
   ]
  },
  {
   "cell_type": "code",
   "execution_count": null,
   "metadata": {
    "executionInfo": {
     "elapsed": 8,
     "status": "ok",
     "timestamp": 1646354579702,
     "user": {
      "displayName": "SEOKYOUNG HONG",
      "photoUrl": "https://lh3.googleusercontent.com/a-/AOh14GhDWs7x7DIW6ojjAzZixwoXjdctw0qH43nbiGv66A=s64",
      "userId": "07450407400923564793"
     },
     "user_tz": -540
    },
    "id": "1t0jczzRluSi"
   },
   "outputs": [],
   "source": []
  },
  {
   "cell_type": "code",
   "execution_count": null,
   "metadata": {
    "executionInfo": {
     "elapsed": 8,
     "status": "ok",
     "timestamp": 1646354579702,
     "user": {
      "displayName": "SEOKYOUNG HONG",
      "photoUrl": "https://lh3.googleusercontent.com/a-/AOh14GhDWs7x7DIW6ojjAzZixwoXjdctw0qH43nbiGv66A=s64",
      "userId": "07450407400923564793"
     },
     "user_tz": -540
    },
    "id": "w201rDbpmQK7"
   },
   "outputs": [],
   "source": []
  },
  {
   "cell_type": "code",
   "execution_count": null,
   "metadata": {
    "executionInfo": {
     "elapsed": 8,
     "status": "ok",
     "timestamp": 1646354579702,
     "user": {
      "displayName": "SEOKYOUNG HONG",
      "photoUrl": "https://lh3.googleusercontent.com/a-/AOh14GhDWs7x7DIW6ojjAzZixwoXjdctw0qH43nbiGv66A=s64",
      "userId": "07450407400923564793"
     },
     "user_tz": -540
    },
    "id": "oFoQXQzxmRB8"
   },
   "outputs": [],
   "source": []
  },
  {
   "cell_type": "markdown",
   "metadata": {
    "id": "RBXq3WbWmXD_"
   },
   "source": [
    "# 2. 문자열"
   ]
  },
  {
   "cell_type": "markdown",
   "metadata": {
    "id": "wS_jArE-mXDK"
   },
   "source": [
    "문자, 단어 등으로 구성된 문자들의 집합"
   ]
  },
  {
   "cell_type": "markdown",
   "metadata": {
    "id": "qlPb6ab6tb8E"
   },
   "source": [
    "- \"string 1\"\n",
    "- 'string 2'\n",
    "\n",
    "위의 두 방법이 가장 많이 쓰임\n",
    "- \"\"\"string 3\"\"\"\n",
    "- '''string 4'''"
   ]
  },
  {
   "cell_type": "markdown",
   "metadata": {
    "id": "buviCpOsuMOk"
   },
   "source": [
    "> Q. '123' 의 데이터형을 판별하시오."
   ]
  },
  {
   "cell_type": "code",
   "execution_count": null,
   "metadata": {
    "executionInfo": {
     "elapsed": 9,
     "status": "ok",
     "timestamp": 1646354579703,
     "user": {
      "displayName": "SEOKYOUNG HONG",
      "photoUrl": "https://lh3.googleusercontent.com/a-/AOh14GhDWs7x7DIW6ojjAzZixwoXjdctw0qH43nbiGv66A=s64",
      "userId": "07450407400923564793"
     },
     "user_tz": -540
    },
    "id": "0T9H4bk9mqdv"
   },
   "outputs": [],
   "source": []
  },
  {
   "cell_type": "markdown",
   "metadata": {
    "id": "S16YkTNTmzgY"
   },
   "source": [
    "> Q. \"이스케이프 코드\"를 이용하여 다음 문장을 출력하시오.\n",
    "\n",
    "> `Life is too short`  \n",
    "> `You need python`"
   ]
  },
  {
   "cell_type": "code",
   "execution_count": null,
   "metadata": {
    "executionInfo": {
     "elapsed": 688,
     "status": "ok",
     "timestamp": 1646354580382,
     "user": {
      "displayName": "SEOKYOUNG HONG",
      "photoUrl": "https://lh3.googleusercontent.com/a-/AOh14GhDWs7x7DIW6ojjAzZixwoXjdctw0qH43nbiGv66A=s64",
      "userId": "07450407400923564793"
     },
     "user_tz": -540
    },
    "id": "67Mi7GkgmreU"
   },
   "outputs": [],
   "source": []
  },
  {
   "cell_type": "markdown",
   "metadata": {
    "id": "7uSpU7Eun3Md"
   },
   "source": [
    "## 문자열 연산"
   ]
  },
  {
   "cell_type": "markdown",
   "metadata": {
    "id": "YU5kexWIxLOL"
   },
   "source": [
    "문자열 더하기"
   ]
  },
  {
   "cell_type": "code",
   "execution_count": null,
   "metadata": {
    "executionInfo": {
     "elapsed": 10,
     "status": "ok",
     "timestamp": 1646354580382,
     "user": {
      "displayName": "SEOKYOUNG HONG",
      "photoUrl": "https://lh3.googleusercontent.com/a-/AOh14GhDWs7x7DIW6ojjAzZixwoXjdctw0qH43nbiGv66A=s64",
      "userId": "07450407400923564793"
     },
     "user_tz": -540
    },
    "id": "xqw5IFHgxMtm"
   },
   "outputs": [],
   "source": []
  },
  {
   "cell_type": "code",
   "execution_count": null,
   "metadata": {
    "executionInfo": {
     "elapsed": 10,
     "status": "ok",
     "timestamp": 1646354580382,
     "user": {
      "displayName": "SEOKYOUNG HONG",
      "photoUrl": "https://lh3.googleusercontent.com/a-/AOh14GhDWs7x7DIW6ojjAzZixwoXjdctw0qH43nbiGv66A=s64",
      "userId": "07450407400923564793"
     },
     "user_tz": -540
    },
    "id": "5HuktCHzxP42"
   },
   "outputs": [],
   "source": []
  },
  {
   "cell_type": "markdown",
   "metadata": {
    "id": "10HjlHHgoIKq"
   },
   "source": [
    "문자열 곱하기"
   ]
  },
  {
   "cell_type": "code",
   "execution_count": null,
   "metadata": {
    "executionInfo": {
     "elapsed": 10,
     "status": "ok",
     "timestamp": 1646354580383,
     "user": {
      "displayName": "SEOKYOUNG HONG",
      "photoUrl": "https://lh3.googleusercontent.com/a-/AOh14GhDWs7x7DIW6ojjAzZixwoXjdctw0qH43nbiGv66A=s64",
      "userId": "07450407400923564793"
     },
     "user_tz": -540
    },
    "id": "BaODzTqOoJ_E"
   },
   "outputs": [],
   "source": []
  },
  {
   "cell_type": "markdown",
   "metadata": {
    "id": "aczpi2NaoKiA"
   },
   "source": [
    "문자열 곱하기 응용"
   ]
  },
  {
   "cell_type": "markdown",
   "metadata": {
    "id": "DK5worgXvIZa"
   },
   "source": [
    "> Q. 아래의 그림과 똑같아지도록 문장을 출력하시오"
   ]
  },
  {
   "cell_type": "markdown",
   "metadata": {
    "id": "T2SXBeUru1Xo"
   },
   "source": [
    "```\n",
    "===============\n",
    "프로젝트 제목\n",
    "===============\n",
    "프로젝트 내용1\n",
    "프로젝트 내용2\n",
    "```"
   ]
  },
  {
   "cell_type": "code",
   "execution_count": null,
   "metadata": {
    "executionInfo": {
     "elapsed": 10,
     "status": "ok",
     "timestamp": 1646354580383,
     "user": {
      "displayName": "SEOKYOUNG HONG",
      "photoUrl": "https://lh3.googleusercontent.com/a-/AOh14GhDWs7x7DIW6ojjAzZixwoXjdctw0qH43nbiGv66A=s64",
      "userId": "07450407400923564793"
     },
     "user_tz": -540
    },
    "id": "PZy7VxjAoMrl"
   },
   "outputs": [],
   "source": []
  },
  {
   "cell_type": "markdown",
   "metadata": {
    "id": "TAIxxl5QxUOL"
   },
   "source": [
    "## 문자열 포맷팅"
   ]
  },
  {
   "cell_type": "markdown",
   "metadata": {
    "id": "NU8CXSU1pEIi"
   },
   "source": [
    "문자열 안에 어떤 값을 삽입"
   ]
  },
  {
   "cell_type": "markdown",
   "metadata": {
    "id": "bsjEcTJwpOYW"
   },
   "source": [
    "1. `string.format()` 메소드 이용"
   ]
  },
  {
   "cell_type": "code",
   "execution_count": null,
   "metadata": {
    "executionInfo": {
     "elapsed": 10,
     "status": "ok",
     "timestamp": 1646354580383,
     "user": {
      "displayName": "SEOKYOUNG HONG",
      "photoUrl": "https://lh3.googleusercontent.com/a-/AOh14GhDWs7x7DIW6ojjAzZixwoXjdctw0qH43nbiGv66A=s64",
      "userId": "07450407400923564793"
     },
     "user_tz": -540
    },
    "id": "cD5eKyu1pDYA"
   },
   "outputs": [],
   "source": []
  },
  {
   "cell_type": "code",
   "execution_count": null,
   "metadata": {
    "executionInfo": {
     "elapsed": 12,
     "status": "ok",
     "timestamp": 1646354580385,
     "user": {
      "displayName": "SEOKYOUNG HONG",
      "photoUrl": "https://lh3.googleusercontent.com/a-/AOh14GhDWs7x7DIW6ojjAzZixwoXjdctw0qH43nbiGv66A=s64",
      "userId": "07450407400923564793"
     },
     "user_tz": -540
    },
    "id": "BjRfmrZKpjkm"
   },
   "outputs": [],
   "source": []
  },
  {
   "cell_type": "code",
   "execution_count": null,
   "metadata": {
    "executionInfo": {
     "elapsed": 12,
     "status": "ok",
     "timestamp": 1646354580386,
     "user": {
      "displayName": "SEOKYOUNG HONG",
      "photoUrl": "https://lh3.googleusercontent.com/a-/AOh14GhDWs7x7DIW6ojjAzZixwoXjdctw0qH43nbiGv66A=s64",
      "userId": "07450407400923564793"
     },
     "user_tz": -540
    },
    "id": "E0WDkIlhpyRK"
   },
   "outputs": [],
   "source": []
  },
  {
   "cell_type": "markdown",
   "metadata": {
    "id": "WeKJM4kapfsU"
   },
   "source": [
    "2. `f string` 이용"
   ]
  },
  {
   "cell_type": "markdown",
   "metadata": {
    "id": "IV_1muoMp8s5"
   },
   "source": [
    "문자열 앞에 f 접두사를 붙여서 표현\n",
    "(**`파이썬 3.6 버전부터 사용가능`**)"
   ]
  },
  {
   "cell_type": "code",
   "execution_count": null,
   "metadata": {
    "executionInfo": {
     "elapsed": 12,
     "status": "ok",
     "timestamp": 1646354580386,
     "user": {
      "displayName": "SEOKYOUNG HONG",
      "photoUrl": "https://lh3.googleusercontent.com/a-/AOh14GhDWs7x7DIW6ojjAzZixwoXjdctw0qH43nbiGv66A=s64",
      "userId": "07450407400923564793"
     },
     "user_tz": -540
    },
    "id": "H_5ebIofpfND"
   },
   "outputs": [],
   "source": []
  },
  {
   "cell_type": "markdown",
   "metadata": {
    "id": "_WhwFYcwq0Wp"
   },
   "source": [
    "> Q. 변수 `ten`, `f string`, `문자열 표현식`을 이용하여 ```I ate 15 apples```를 출력하시오"
   ]
  },
  {
   "cell_type": "code",
   "execution_count": null,
   "metadata": {
    "executionInfo": {
     "elapsed": 12,
     "status": "ok",
     "timestamp": 1646354580386,
     "user": {
      "displayName": "SEOKYOUNG HONG",
      "photoUrl": "https://lh3.googleusercontent.com/a-/AOh14GhDWs7x7DIW6ojjAzZixwoXjdctw0qH43nbiGv66A=s64",
      "userId": "07450407400923564793"
     },
     "user_tz": -540
    },
    "id": "4FdKAKymq2Wd"
   },
   "outputs": [],
   "source": []
  },
  {
   "cell_type": "markdown",
   "metadata": {
    "id": "RQx8B6l1q0VU"
   },
   "source": [
    "## 소수점 표현"
   ]
  },
  {
   "cell_type": "code",
   "execution_count": null,
   "metadata": {
    "executionInfo": {
     "elapsed": 12,
     "status": "ok",
     "timestamp": 1646354580386,
     "user": {
      "displayName": "SEOKYOUNG HONG",
      "photoUrl": "https://lh3.googleusercontent.com/a-/AOh14GhDWs7x7DIW6ojjAzZixwoXjdctw0qH43nbiGv66A=s64",
      "userId": "07450407400923564793"
     },
     "user_tz": -540
    },
    "id": "Jvr3k3c6qzz2"
   },
   "outputs": [],
   "source": []
  },
  {
   "cell_type": "markdown",
   "metadata": {
    "id": "NllG7IizzGJ-"
   },
   "source": [
    "소수점 4자리까지 출력"
   ]
  },
  {
   "cell_type": "code",
   "execution_count": null,
   "metadata": {
    "executionInfo": {
     "elapsed": 13,
     "status": "ok",
     "timestamp": 1646354580387,
     "user": {
      "displayName": "SEOKYOUNG HONG",
      "photoUrl": "https://lh3.googleusercontent.com/a-/AOh14GhDWs7x7DIW6ojjAzZixwoXjdctw0qH43nbiGv66A=s64",
      "userId": "07450407400923564793"
     },
     "user_tz": -540
    },
    "id": "JIWkDrd6rONX"
   },
   "outputs": [],
   "source": []
  },
  {
   "cell_type": "markdown",
   "metadata": {
    "id": "6ij56S9_rOa7"
   },
   "source": [
    "> Q. 변수 `number`를 소수점 3자리 까지 표현하고, 총 자릿수 10의 오른쪽 정렬로 출력하시오."
   ]
  },
  {
   "cell_type": "code",
   "execution_count": 1,
   "metadata": {
    "executionInfo": {
     "elapsed": 13,
     "status": "ok",
     "timestamp": 1646354580387,
     "user": {
      "displayName": "SEOKYOUNG HONG",
      "photoUrl": "https://lh3.googleusercontent.com/a-/AOh14GhDWs7x7DIW6ojjAzZixwoXjdctw0qH43nbiGv66A=s64",
      "userId": "07450407400923564793"
     },
     "user_tz": -540
    },
    "id": "in1s2WPZXxR_"
   },
   "outputs": [],
   "source": [
    "number = 1.1234567890123"
   ]
  },
  {
   "cell_type": "code",
   "execution_count": 1,
   "metadata": {
    "executionInfo": {
     "elapsed": 13,
     "status": "ok",
     "timestamp": 1646354580387,
     "user": {
      "displayName": "SEOKYOUNG HONG",
      "photoUrl": "https://lh3.googleusercontent.com/a-/AOh14GhDWs7x7DIW6ojjAzZixwoXjdctw0qH43nbiGv66A=s64",
      "userId": "07450407400923564793"
     },
     "user_tz": -540
    },
    "id": "RdOmuGArraG1"
   },
   "outputs": [],
   "source": []
  },
  {
   "cell_type": "markdown",
   "metadata": {
    "id": "lWKCjVmnoIJq"
   },
   "source": []
  },
  {
   "cell_type": "markdown",
   "metadata": {
    "id": "uhx_d1Izz4ex"
   },
   "source": [
    "# 리스트"
   ]
  },
  {
   "cell_type": "markdown",
   "metadata": {
    "id": "1RY2RMgGz7aY"
   },
   "source": [
    "여러가지 요소들의 모임"
   ]
  },
  {
   "cell_type": "code",
   "execution_count": 1,
   "metadata": {
    "executionInfo": {
     "elapsed": 12,
     "status": "ok",
     "timestamp": 1646354580387,
     "user": {
      "displayName": "SEOKYOUNG HONG",
      "photoUrl": "https://lh3.googleusercontent.com/a-/AOh14GhDWs7x7DIW6ojjAzZixwoXjdctw0qH43nbiGv66A=s64",
      "userId": "07450407400923564793"
     },
     "user_tz": -540
    },
    "id": "kK6xqyxxz5V6"
   },
   "outputs": [],
   "source": []
  },
  {
   "cell_type": "code",
   "execution_count": 1,
   "metadata": {
    "executionInfo": {
     "elapsed": 13,
     "status": "ok",
     "timestamp": 1646354580388,
     "user": {
      "displayName": "SEOKYOUNG HONG",
      "photoUrl": "https://lh3.googleusercontent.com/a-/AOh14GhDWs7x7DIW6ojjAzZixwoXjdctw0qH43nbiGv66A=s64",
      "userId": "07450407400923564793"
     },
     "user_tz": -540
    },
    "id": "MwpbpHz_0Ffh"
   },
   "outputs": [],
   "source": []
  },
  {
   "cell_type": "markdown",
   "metadata": {
    "id": "J-I4f1Ej0MJA"
   },
   "source": [
    "## 리스트 인덱싱"
   ]
  },
  {
   "cell_type": "code",
   "execution_count": 1,
   "metadata": {
    "executionInfo": {
     "elapsed": 13,
     "status": "ok",
     "timestamp": 1646354580388,
     "user": {
      "displayName": "SEOKYOUNG HONG",
      "photoUrl": "https://lh3.googleusercontent.com/a-/AOh14GhDWs7x7DIW6ojjAzZixwoXjdctw0qH43nbiGv66A=s64",
      "userId": "07450407400923564793"
     },
     "user_tz": -540
    },
    "id": "RnO37GwF0NGI"
   },
   "outputs": [],
   "source": []
  },
  {
   "cell_type": "code",
   "execution_count": 1,
   "metadata": {
    "executionInfo": {
     "elapsed": 13,
     "status": "ok",
     "timestamp": 1646354580388,
     "user": {
      "displayName": "SEOKYOUNG HONG",
      "photoUrl": "https://lh3.googleusercontent.com/a-/AOh14GhDWs7x7DIW6ojjAzZixwoXjdctw0qH43nbiGv66A=s64",
      "userId": "07450407400923564793"
     },
     "user_tz": -540
    },
    "id": "PV-GE0KD0RBG"
   },
   "outputs": [],
   "source": []
  },
  {
   "cell_type": "code",
   "execution_count": 1,
   "metadata": {
    "executionInfo": {
     "elapsed": 13,
     "status": "ok",
     "timestamp": 1646354580388,
     "user": {
      "displayName": "SEOKYOUNG HONG",
      "photoUrl": "https://lh3.googleusercontent.com/a-/AOh14GhDWs7x7DIW6ojjAzZixwoXjdctw0qH43nbiGv66A=s64",
      "userId": "07450407400923564793"
     },
     "user_tz": -540
    },
    "id": "APBzRwpZ0Tge"
   },
   "outputs": [],
   "source": []
  },
  {
   "cell_type": "code",
   "execution_count": 1,
   "metadata": {
    "executionInfo": {
     "elapsed": 13,
     "status": "ok",
     "timestamp": 1646354580388,
     "user": {
      "displayName": "SEOKYOUNG HONG",
      "photoUrl": "https://lh3.googleusercontent.com/a-/AOh14GhDWs7x7DIW6ojjAzZixwoXjdctw0qH43nbiGv66A=s64",
      "userId": "07450407400923564793"
     },
     "user_tz": -540
    },
    "id": "WHecIRu00T8C"
   },
   "outputs": [],
   "source": []
  },
  {
   "cell_type": "markdown",
   "metadata": {
    "id": "Fe--xY4z0Y1O"
   },
   "source": [
    "## 리스트 슬라이싱"
   ]
  },
  {
   "cell_type": "code",
   "execution_count": 1,
   "metadata": {
    "executionInfo": {
     "elapsed": 13,
     "status": "ok",
     "timestamp": 1646354580389,
     "user": {
      "displayName": "SEOKYOUNG HONG",
      "photoUrl": "https://lh3.googleusercontent.com/a-/AOh14GhDWs7x7DIW6ojjAzZixwoXjdctw0qH43nbiGv66A=s64",
      "userId": "07450407400923564793"
     },
     "user_tz": -540
    },
    "id": "VlaEoZHC0XhE"
   },
   "outputs": [],
   "source": []
  },
  {
   "cell_type": "code",
   "execution_count": 1,
   "metadata": {
    "executionInfo": {
     "elapsed": 13,
     "status": "ok",
     "timestamp": 1646354580389,
     "user": {
      "displayName": "SEOKYOUNG HONG",
      "photoUrl": "https://lh3.googleusercontent.com/a-/AOh14GhDWs7x7DIW6ojjAzZixwoXjdctw0qH43nbiGv66A=s64",
      "userId": "07450407400923564793"
     },
     "user_tz": -540
    },
    "id": "Kug5Ngv50c_4"
   },
   "outputs": [],
   "source": []
  },
  {
   "cell_type": "code",
   "execution_count": 1,
   "metadata": {
    "executionInfo": {
     "elapsed": 13,
     "status": "ok",
     "timestamp": 1646354580389,
     "user": {
      "displayName": "SEOKYOUNG HONG",
      "photoUrl": "https://lh3.googleusercontent.com/a-/AOh14GhDWs7x7DIW6ojjAzZixwoXjdctw0qH43nbiGv66A=s64",
      "userId": "07450407400923564793"
     },
     "user_tz": -540
    },
    "id": "NQS8w2f20fV-"
   },
   "outputs": [],
   "source": []
  },
  {
   "cell_type": "code",
   "execution_count": 1,
   "metadata": {
    "executionInfo": {
     "elapsed": 13,
     "status": "ok",
     "timestamp": 1646354580389,
     "user": {
      "displayName": "SEOKYOUNG HONG",
      "photoUrl": "https://lh3.googleusercontent.com/a-/AOh14GhDWs7x7DIW6ojjAzZixwoXjdctw0qH43nbiGv66A=s64",
      "userId": "07450407400923564793"
     },
     "user_tz": -540
    },
    "id": "w9i0y1FE0hXc"
   },
   "outputs": [],
   "source": []
  },
  {
   "cell_type": "markdown",
   "metadata": {
    "id": "4yZXMPBZ0qxv"
   },
   "source": [
    "## 다중 리스트"
   ]
  },
  {
   "cell_type": "markdown",
   "metadata": {
    "id": "Pzbb-ZaO0xtJ"
   },
   "source": [
    "리스트 안에 다른 리스트를 포함"
   ]
  },
  {
   "cell_type": "markdown",
   "metadata": {
    "id": "6faqNOMJ0xsH"
   },
   "source": []
  },
  {
   "cell_type": "code",
   "execution_count": 1,
   "metadata": {
    "executionInfo": {
     "elapsed": 14,
     "status": "ok",
     "timestamp": 1646354580390,
     "user": {
      "displayName": "SEOKYOUNG HONG",
      "photoUrl": "https://lh3.googleusercontent.com/a-/AOh14GhDWs7x7DIW6ojjAzZixwoXjdctw0qH43nbiGv66A=s64",
      "userId": "07450407400923564793"
     },
     "user_tz": -540
    },
    "id": "WCyuOVzn0rwf"
   },
   "outputs": [],
   "source": []
  },
  {
   "cell_type": "code",
   "execution_count": 1,
   "metadata": {
    "executionInfo": {
     "elapsed": 14,
     "status": "ok",
     "timestamp": 1646354580390,
     "user": {
      "displayName": "SEOKYOUNG HONG",
      "photoUrl": "https://lh3.googleusercontent.com/a-/AOh14GhDWs7x7DIW6ojjAzZixwoXjdctw0qH43nbiGv66A=s64",
      "userId": "07450407400923564793"
     },
     "user_tz": -540
    },
    "id": "lM-r1Yju0iuu"
   },
   "outputs": [],
   "source": []
  },
  {
   "cell_type": "code",
   "execution_count": 1,
   "metadata": {
    "executionInfo": {
     "elapsed": 14,
     "status": "ok",
     "timestamp": 1646354580390,
     "user": {
      "displayName": "SEOKYOUNG HONG",
      "photoUrl": "https://lh3.googleusercontent.com/a-/AOh14GhDWs7x7DIW6ojjAzZixwoXjdctw0qH43nbiGv66A=s64",
      "userId": "07450407400923564793"
     },
     "user_tz": -540
    },
    "id": "DWJstIJo02AZ"
   },
   "outputs": [],
   "source": []
  },
  {
   "cell_type": "code",
   "execution_count": 1,
   "metadata": {
    "executionInfo": {
     "elapsed": 13,
     "status": "ok",
     "timestamp": 1646354580390,
     "user": {
      "displayName": "SEOKYOUNG HONG",
      "photoUrl": "https://lh3.googleusercontent.com/a-/AOh14GhDWs7x7DIW6ojjAzZixwoXjdctw0qH43nbiGv66A=s64",
      "userId": "07450407400923564793"
     },
     "user_tz": -540
    },
    "id": "z11wG3SR029D"
   },
   "outputs": [],
   "source": []
  },
  {
   "cell_type": "code",
   "execution_count": 1,
   "metadata": {
    "executionInfo": {
     "elapsed": 13,
     "status": "ok",
     "timestamp": 1646354580390,
     "user": {
      "displayName": "SEOKYOUNG HONG",
      "photoUrl": "https://lh3.googleusercontent.com/a-/AOh14GhDWs7x7DIW6ojjAzZixwoXjdctw0qH43nbiGv66A=s64",
      "userId": "07450407400923564793"
     },
     "user_tz": -540
    },
    "id": "2orXTpr603g4"
   },
   "outputs": [],
   "source": []
  },
  {
   "cell_type": "code",
   "execution_count": 1,
   "metadata": {
    "executionInfo": {
     "elapsed": 36,
     "status": "ok",
     "timestamp": 1646354580874,
     "user": {
      "displayName": "SEOKYOUNG HONG",
      "photoUrl": "https://lh3.googleusercontent.com/a-/AOh14GhDWs7x7DIW6ojjAzZixwoXjdctw0qH43nbiGv66A=s64",
      "userId": "07450407400923564793"
     },
     "user_tz": -540
    },
    "id": "6Dkpjaok06DP"
   },
   "outputs": [],
   "source": []
  },
  {
   "cell_type": "markdown",
   "metadata": {
    "id": "j9fvn69L0_Nz"
   },
   "source": [
    "## 리스트 연산"
   ]
  },
  {
   "cell_type": "code",
   "execution_count": 1,
   "metadata": {
    "executionInfo": {
     "elapsed": 36,
     "status": "ok",
     "timestamp": 1646354580875,
     "user": {
      "displayName": "SEOKYOUNG HONG",
      "photoUrl": "https://lh3.googleusercontent.com/a-/AOh14GhDWs7x7DIW6ojjAzZixwoXjdctw0qH43nbiGv66A=s64",
      "userId": "07450407400923564793"
     },
     "user_tz": -540
    },
    "id": "D7woaUby067x"
   },
   "outputs": [],
   "source": []
  },
  {
   "cell_type": "code",
   "execution_count": 1,
   "metadata": {
    "executionInfo": {
     "elapsed": 36,
     "status": "ok",
     "timestamp": 1646354580875,
     "user": {
      "displayName": "SEOKYOUNG HONG",
      "photoUrl": "https://lh3.googleusercontent.com/a-/AOh14GhDWs7x7DIW6ojjAzZixwoXjdctw0qH43nbiGv66A=s64",
      "userId": "07450407400923564793"
     },
     "user_tz": -540
    },
    "id": "htLuLUhj1EEB"
   },
   "outputs": [],
   "source": []
  },
  {
   "cell_type": "code",
   "execution_count": 1,
   "metadata": {
    "executionInfo": {
     "elapsed": 36,
     "status": "ok",
     "timestamp": 1646354580875,
     "user": {
      "displayName": "SEOKYOUNG HONG",
      "photoUrl": "https://lh3.googleusercontent.com/a-/AOh14GhDWs7x7DIW6ojjAzZixwoXjdctw0qH43nbiGv66A=s64",
      "userId": "07450407400923564793"
     },
     "user_tz": -540
    },
    "id": "0wOlMlPZ1E_p"
   },
   "outputs": [],
   "source": []
  },
  {
   "cell_type": "code",
   "execution_count": 1,
   "metadata": {
    "executionInfo": {
     "elapsed": 36,
     "status": "ok",
     "timestamp": 1646354580875,
     "user": {
      "displayName": "SEOKYOUNG HONG",
      "photoUrl": "https://lh3.googleusercontent.com/a-/AOh14GhDWs7x7DIW6ojjAzZixwoXjdctw0qH43nbiGv66A=s64",
      "userId": "07450407400923564793"
     },
     "user_tz": -540
    },
    "id": "FRGCcNbx1G-r"
   },
   "outputs": [],
   "source": []
  },
  {
   "cell_type": "code",
   "execution_count": 1,
   "metadata": {
    "executionInfo": {
     "elapsed": 36,
     "status": "ok",
     "timestamp": 1646354580876,
     "user": {
      "displayName": "SEOKYOUNG HONG",
      "photoUrl": "https://lh3.googleusercontent.com/a-/AOh14GhDWs7x7DIW6ojjAzZixwoXjdctw0qH43nbiGv66A=s64",
      "userId": "07450407400923564793"
     },
     "user_tz": -540
    },
    "id": "kubq6Tlj1JLB"
   },
   "outputs": [],
   "source": []
  },
  {
   "cell_type": "code",
   "execution_count": 1,
   "metadata": {
    "executionInfo": {
     "elapsed": 36,
     "status": "ok",
     "timestamp": 1646354580876,
     "user": {
      "displayName": "SEOKYOUNG HONG",
      "photoUrl": "https://lh3.googleusercontent.com/a-/AOh14GhDWs7x7DIW6ojjAzZixwoXjdctw0qH43nbiGv66A=s64",
      "userId": "07450407400923564793"
     },
     "user_tz": -540
    },
    "id": "2Xg5DLfi1PAb"
   },
   "outputs": [],
   "source": []
  },
  {
   "cell_type": "markdown",
   "metadata": {
    "id": "LAQYnDQU3xQo"
   },
   "source": [
    "> Q. 아래에 주어진 두 리스트 a, b 만을 이용하여 다음 결과를 출력하여라.\n",
    "\n",
    "```\n",
    "[3, 5, 6]\n",
    "```"
   ]
  },
  {
   "cell_type": "code",
   "execution_count": 2,
   "metadata": {
    "executionInfo": {
     "elapsed": 36,
     "status": "ok",
     "timestamp": 1646354580876,
     "user": {
      "displayName": "SEOKYOUNG HONG",
      "photoUrl": "https://lh3.googleusercontent.com/a-/AOh14GhDWs7x7DIW6ojjAzZixwoXjdctw0qH43nbiGv66A=s64",
      "userId": "07450407400923564793"
     },
     "user_tz": -540
    },
    "id": "_s3vpy15XfNL"
   },
   "outputs": [],
   "source": [
    "a = [1, 2, 3, [4, 5]]\n",
    "b = [6, 7]"
   ]
  },
  {
   "cell_type": "code",
   "execution_count": 2,
   "metadata": {
    "executionInfo": {
     "elapsed": 36,
     "status": "ok",
     "timestamp": 1646354580876,
     "user": {
      "displayName": "SEOKYOUNG HONG",
      "photoUrl": "https://lh3.googleusercontent.com/a-/AOh14GhDWs7x7DIW6ojjAzZixwoXjdctw0qH43nbiGv66A=s64",
      "userId": "07450407400923564793"
     },
     "user_tz": -540
    },
    "id": "yLOt1G8T4Eqe"
   },
   "outputs": [],
   "source": []
  },
  {
   "cell_type": "markdown",
   "metadata": {
    "id": "tUkbND4B1VJm"
   },
   "source": [
    "# 리스트 내장함수"
   ]
  },
  {
   "cell_type": "markdown",
   "metadata": {
    "id": "6MPB755e1Wey"
   },
   "source": [
    "- `list.append()`"
   ]
  },
  {
   "cell_type": "code",
   "execution_count": 2,
   "metadata": {
    "executionInfo": {
     "elapsed": 36,
     "status": "ok",
     "timestamp": 1646354580877,
     "user": {
      "displayName": "SEOKYOUNG HONG",
      "photoUrl": "https://lh3.googleusercontent.com/a-/AOh14GhDWs7x7DIW6ojjAzZixwoXjdctw0qH43nbiGv66A=s64",
      "userId": "07450407400923564793"
     },
     "user_tz": -540
    },
    "id": "fv8-C0cs1R9z"
   },
   "outputs": [],
   "source": []
  },
  {
   "cell_type": "code",
   "execution_count": 2,
   "metadata": {
    "executionInfo": {
     "elapsed": 36,
     "status": "ok",
     "timestamp": 1646354580877,
     "user": {
      "displayName": "SEOKYOUNG HONG",
      "photoUrl": "https://lh3.googleusercontent.com/a-/AOh14GhDWs7x7DIW6ojjAzZixwoXjdctw0qH43nbiGv66A=s64",
      "userId": "07450407400923564793"
     },
     "user_tz": -540
    },
    "id": "4LwQq2PB1dv9"
   },
   "outputs": [],
   "source": []
  },
  {
   "cell_type": "code",
   "execution_count": 2,
   "metadata": {
    "executionInfo": {
     "elapsed": 38,
     "status": "ok",
     "timestamp": 1646354580879,
     "user": {
      "displayName": "SEOKYOUNG HONG",
      "photoUrl": "https://lh3.googleusercontent.com/a-/AOh14GhDWs7x7DIW6ojjAzZixwoXjdctw0qH43nbiGv66A=s64",
      "userId": "07450407400923564793"
     },
     "user_tz": -540
    },
    "id": "bhuzZmqB1gEK"
   },
   "outputs": [],
   "source": []
  },
  {
   "cell_type": "markdown",
   "metadata": {
    "id": "uRktwmr_1rTl"
   },
   "source": [
    "- `list.pop()`"
   ]
  },
  {
   "cell_type": "code",
   "execution_count": 2,
   "metadata": {
    "executionInfo": {
     "elapsed": 38,
     "status": "ok",
     "timestamp": 1646354580879,
     "user": {
      "displayName": "SEOKYOUNG HONG",
      "photoUrl": "https://lh3.googleusercontent.com/a-/AOh14GhDWs7x7DIW6ojjAzZixwoXjdctw0qH43nbiGv66A=s64",
      "userId": "07450407400923564793"
     },
     "user_tz": -540
    },
    "id": "ZtRgZMq317YK"
   },
   "outputs": [],
   "source": []
  },
  {
   "cell_type": "code",
   "execution_count": 2,
   "metadata": {
    "executionInfo": {
     "elapsed": 39,
     "status": "ok",
     "timestamp": 1646354580880,
     "user": {
      "displayName": "SEOKYOUNG HONG",
      "photoUrl": "https://lh3.googleusercontent.com/a-/AOh14GhDWs7x7DIW6ojjAzZixwoXjdctw0qH43nbiGv66A=s64",
      "userId": "07450407400923564793"
     },
     "user_tz": -540
    },
    "id": "Iqkokmse1-aA"
   },
   "outputs": [],
   "source": []
  },
  {
   "cell_type": "code",
   "execution_count": 3,
   "metadata": {
    "colab": {
     "base_uri": "https://localhost:8080/"
    },
    "executionInfo": {
     "elapsed": 39,
     "status": "ok",
     "timestamp": 1646354580880,
     "user": {
      "displayName": "SEOKYOUNG HONG",
      "photoUrl": "https://lh3.googleusercontent.com/a-/AOh14GhDWs7x7DIW6ojjAzZixwoXjdctw0qH43nbiGv66A=s64",
      "userId": "07450407400923564793"
     },
     "user_tz": -540
    },
    "id": "RR7I2X832BTj",
    "outputId": "2a6e5341-bd8a-4ce9-9062-55ef8cc31b87"
   },
   "outputs": [
    {
     "data": {
      "text/plain": [
       "[1, 2, 3, [4, 5]]"
      ]
     },
     "execution_count": 3,
     "metadata": {},
     "output_type": "execute_result"
    }
   ],
   "source": [
    "a"
   ]
  },
  {
   "cell_type": "markdown",
   "metadata": {
    "id": "xSUjq3BG5iQc"
   },
   "source": [
    "> Q. 아래에 주어진 리스트 a 에 있는 숫자 4 를 리스트 b 로 옮기시오."
   ]
  },
  {
   "cell_type": "code",
   "execution_count": 4,
   "metadata": {
    "executionInfo": {
     "elapsed": 12,
     "status": "ok",
     "timestamp": 1646354580880,
     "user": {
      "displayName": "SEOKYOUNG HONG",
      "photoUrl": "https://lh3.googleusercontent.com/a-/AOh14GhDWs7x7DIW6ojjAzZixwoXjdctw0qH43nbiGv66A=s64",
      "userId": "07450407400923564793"
     },
     "user_tz": -540
    },
    "id": "Meu9FTpeXnar"
   },
   "outputs": [],
   "source": [
    "a = [1, 2, 3, 4]\n",
    "b = []"
   ]
  },
  {
   "cell_type": "code",
   "execution_count": 4,
   "metadata": {
    "executionInfo": {
     "elapsed": 12,
     "status": "ok",
     "timestamp": 1646354580881,
     "user": {
      "displayName": "SEOKYOUNG HONG",
      "photoUrl": "https://lh3.googleusercontent.com/a-/AOh14GhDWs7x7DIW6ojjAzZixwoXjdctw0qH43nbiGv66A=s64",
      "userId": "07450407400923564793"
     },
     "user_tz": -540
    },
    "id": "U7dD9KT55rDf"
   },
   "outputs": [],
   "source": []
  },
  {
   "cell_type": "markdown",
   "metadata": {
    "id": "HQeyysCk2KFp"
   },
   "source": [
    "# 딕셔너리"
   ]
  },
  {
   "cell_type": "markdown",
   "metadata": {
    "id": "cvjAnyDr2lMN"
   },
   "source": [
    "Key 와 Value를 한 쌍으로 갖는 자료형"
   ]
  },
  {
   "cell_type": "code",
   "execution_count": 4,
   "metadata": {
    "executionInfo": {
     "elapsed": 12,
     "status": "ok",
     "timestamp": 1646354580881,
     "user": {
      "displayName": "SEOKYOUNG HONG",
      "photoUrl": "https://lh3.googleusercontent.com/a-/AOh14GhDWs7x7DIW6ojjAzZixwoXjdctw0qH43nbiGv66A=s64",
      "userId": "07450407400923564793"
     },
     "user_tz": -540
    },
    "id": "Ip5F_Tqt2K-N"
   },
   "outputs": [],
   "source": []
  },
  {
   "cell_type": "code",
   "execution_count": 4,
   "metadata": {
    "executionInfo": {
     "elapsed": 13,
     "status": "ok",
     "timestamp": 1646354580882,
     "user": {
      "displayName": "SEOKYOUNG HONG",
      "photoUrl": "https://lh3.googleusercontent.com/a-/AOh14GhDWs7x7DIW6ojjAzZixwoXjdctw0qH43nbiGv66A=s64",
      "userId": "07450407400923564793"
     },
     "user_tz": -540
    },
    "id": "2VwWPUju2cbM"
   },
   "outputs": [],
   "source": []
  },
  {
   "cell_type": "code",
   "execution_count": 4,
   "metadata": {
    "executionInfo": {
     "elapsed": 13,
     "status": "ok",
     "timestamp": 1646354580882,
     "user": {
      "displayName": "SEOKYOUNG HONG",
      "photoUrl": "https://lh3.googleusercontent.com/a-/AOh14GhDWs7x7DIW6ojjAzZixwoXjdctw0qH43nbiGv66A=s64",
      "userId": "07450407400923564793"
     },
     "user_tz": -540
    },
    "id": "2_WyLrER2cZz"
   },
   "outputs": [],
   "source": []
  },
  {
   "cell_type": "markdown",
   "metadata": {
    "id": "Et51KSl72jiD"
   },
   "source": [
    "# 집합"
   ]
  },
  {
   "cell_type": "markdown",
   "metadata": {
    "id": "lt8VJ-NM2oCu"
   },
   "source": [
    "집합에 관련된 것을 쉽게 처리하는 자료형\n",
    "- 중복을 허용하지 않는다\n",
    "- 순서가 없다, 인덱싱이 불가능하다"
   ]
  },
  {
   "cell_type": "code",
   "execution_count": 4,
   "metadata": {
    "executionInfo": {
     "elapsed": 14,
     "status": "ok",
     "timestamp": 1646354580883,
     "user": {
      "displayName": "SEOKYOUNG HONG",
      "photoUrl": "https://lh3.googleusercontent.com/a-/AOh14GhDWs7x7DIW6ojjAzZixwoXjdctw0qH43nbiGv66A=s64",
      "userId": "07450407400923564793"
     },
     "user_tz": -540
    },
    "id": "Z9FxJT2L2wDL"
   },
   "outputs": [],
   "source": []
  },
  {
   "cell_type": "code",
   "execution_count": 4,
   "metadata": {
    "executionInfo": {
     "elapsed": 13,
     "status": "ok",
     "timestamp": 1646354580883,
     "user": {
      "displayName": "SEOKYOUNG HONG",
      "photoUrl": "https://lh3.googleusercontent.com/a-/AOh14GhDWs7x7DIW6ojjAzZixwoXjdctw0qH43nbiGv66A=s64",
      "userId": "07450407400923564793"
     },
     "user_tz": -540
    },
    "id": "TKT2CAgM23oF"
   },
   "outputs": [],
   "source": []
  },
  {
   "cell_type": "markdown",
   "metadata": {
    "id": "-xJpEnkH3FNf"
   },
   "source": [
    "# 불"
   ]
  },
  {
   "cell_type": "markdown",
   "metadata": {
    "id": "7WWQmUHt3K3q"
   },
   "source": [
    "참과 거짓을 나타내는 자료형\n",
    "- `True` / `False` 값만 존재"
   ]
  },
  {
   "cell_type": "code",
   "execution_count": 4,
   "metadata": {
    "executionInfo": {
     "elapsed": 13,
     "status": "ok",
     "timestamp": 1646354580883,
     "user": {
      "displayName": "SEOKYOUNG HONG",
      "photoUrl": "https://lh3.googleusercontent.com/a-/AOh14GhDWs7x7DIW6ojjAzZixwoXjdctw0qH43nbiGv66A=s64",
      "userId": "07450407400923564793"
     },
     "user_tz": -540
    },
    "id": "HF7MUy0o3Stg"
   },
   "outputs": [],
   "source": []
  },
  {
   "cell_type": "code",
   "execution_count": 4,
   "metadata": {
    "executionInfo": {
     "elapsed": 14,
     "status": "ok",
     "timestamp": 1646354580884,
     "user": {
      "displayName": "SEOKYOUNG HONG",
      "photoUrl": "https://lh3.googleusercontent.com/a-/AOh14GhDWs7x7DIW6ojjAzZixwoXjdctw0qH43nbiGv66A=s64",
      "userId": "07450407400923564793"
     },
     "user_tz": -540
    },
    "id": "FHAprsWX3Tp7"
   },
   "outputs": [],
   "source": []
  },
  {
   "cell_type": "code",
   "execution_count": 4,
   "metadata": {
    "executionInfo": {
     "elapsed": 14,
     "status": "ok",
     "timestamp": 1646354580884,
     "user": {
      "displayName": "SEOKYOUNG HONG",
      "photoUrl": "https://lh3.googleusercontent.com/a-/AOh14GhDWs7x7DIW6ojjAzZixwoXjdctw0qH43nbiGv66A=s64",
      "userId": "07450407400923564793"
     },
     "user_tz": -540
    },
    "id": "cZE92xj_3U7r"
   },
   "outputs": [],
   "source": []
  }
 ],
 "metadata": {
  "colab": {
   "authorship_tag": "ABX9TyM3Cx4Os8Vr1lFC9UGXkZkN",
   "collapsed_sections": [],
   "name": "TA_2.1 Python basics I_Data type and operation (student).ipynb",
   "provenance": [],
   "toc_visible": true
  },
  "kernelspec": {
   "display_name": "Python 3 (ipykernel)",
   "language": "python",
   "name": "python3"
  },
  "language_info": {
   "codemirror_mode": {
    "name": "ipython",
    "version": 3
   },
   "file_extension": ".py",
   "mimetype": "text/x-python",
   "name": "python",
   "nbconvert_exporter": "python",
   "pygments_lexer": "ipython3",
   "version": "3.8.12"
  },
  "toc": {
   "base_numbering": 1,
   "nav_menu": {},
   "number_sections": true,
   "sideBar": true,
   "skip_h1_title": false,
   "title_cell": "Table of Contents",
   "title_sidebar": "Contents",
   "toc_cell": false,
   "toc_position": {},
   "toc_section_display": true,
   "toc_window_display": true
  },
  "varInspector": {
   "cols": {
    "lenName": 16,
    "lenType": 16,
    "lenVar": 40
   },
   "kernels_config": {
    "python": {
     "delete_cmd_postfix": "",
     "delete_cmd_prefix": "del ",
     "library": "var_list.py",
     "varRefreshCmd": "print(var_dic_list())"
    },
    "r": {
     "delete_cmd_postfix": ") ",
     "delete_cmd_prefix": "rm(",
     "library": "var_list.r",
     "varRefreshCmd": "cat(var_dic_list()) "
    }
   },
   "types_to_exclude": [
    "module",
    "function",
    "builtin_function_or_method",
    "instance",
    "_Feature"
   ],
   "window_display": true
  }
 },
 "nbformat": 4,
 "nbformat_minor": 1
}
