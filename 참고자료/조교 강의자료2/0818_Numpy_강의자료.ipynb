{
 "cells": [
  {
   "cell_type": "markdown",
   "metadata": {
    "id": "akfpoc0ovZfn"
   },
   "source": [
    "# Numpy\n",
    "\n",
    "- Numpy는 C언어로 구현된 파이썬 라이브러리, 고성능의 수치계산을 목적\n",
    "- Numpy는 벡터 및 행렬 연산에 있어서 매우 편리한 기능을 제공\n",
    "- 데이터분석을 할 때 사용되는 라이브러리인 pandas와 matplotlib의 기반으로 사용\n",
    "- 기본적으로 array(벡터와 유사한 개념) 단위로 데이터를 관리하며 이에 대한 연산을 수행"
   ]
  },
  {
   "cell_type": "code",
   "execution_count": 1,
   "metadata": {
    "id": "XkcduFxavZfq"
   },
   "outputs": [],
   "source": [
    "import numpy as np"
   ]
  },
  {
   "cell_type": "markdown",
   "metadata": {
    "id": "r9rQICzYvZfx"
   },
   "source": [
    "## 1. Arrary 정의 및 사용"
   ]
  },
  {
   "cell_type": "markdown",
   "metadata": {},
   "source": [
    "**`np.array()`**"
   ]
  },
  {
   "cell_type": "code",
   "execution_count": 2,
   "metadata": {
    "id": "5BIWwICYvZfx",
    "outputId": "4a4ea90d-8dcd-4340-aba4-fa2322932e74"
   },
   "outputs": [
    {
     "data": {
      "text/plain": [
       "array([1, 2, 3, 4, 5])"
      ]
     },
     "execution_count": 2,
     "metadata": {},
     "output_type": "execute_result"
    }
   ],
   "source": [
    "# np.array()를 통해 array를 생성할 수 있음\n",
    "array1 = np.array([1, 2, 3, 4, 5])\n",
    "array1"
   ]
  },
  {
   "cell_type": "code",
   "execution_count": 3,
   "metadata": {
    "id": "BTPPITfJvZf3",
    "outputId": "fcf1af91-b02a-4796-cb2e-b19de0269c5e"
   },
   "outputs": [
    {
     "name": "stdout",
     "output_type": "stream",
     "text": [
      "[1, 2, 3.5, 4, 5]\n"
     ]
    },
    {
     "data": {
      "text/plain": [
       "array([1. , 2. , 3.5, 4. , 5. ])"
      ]
     },
     "execution_count": 3,
     "metadata": {},
     "output_type": "execute_result"
    }
   ],
   "source": [
    "# np.array()를 통해 파이썬의 list를 numpy의 array로 바꿀 수 있음\n",
    "list2 = [1, 2, 3.5, 4, 5]\n",
    "print(list2)\n",
    "array2 = np.array(list2)\n",
    "array2"
   ]
  },
  {
   "cell_type": "code",
   "execution_count": 4,
   "metadata": {
    "id": "od8aDSipvZgS",
    "outputId": "6eb8c84a-7243-4c75-e39b-563671a8a4da"
   },
   "outputs": [
    {
     "data": {
      "text/plain": [
       "array([[ 1,  2,  3],\n",
       "       [ 4,  5,  6],\n",
       "       [ 7,  8,  9],\n",
       "       [10, 11, 12]])"
      ]
     },
     "execution_count": 4,
     "metadata": {},
     "output_type": "execute_result"
    }
   ],
   "source": [
    "array3 = np.array([[1, 2, 3],[4, 5, 6],[7, 8, 9],[10, 11, 12]]) # list of list\n",
    "array3 # 4 by 3"
   ]
  },
  {
   "cell_type": "markdown",
   "metadata": {
    "id": "EUsOZ4HFvZgD"
   },
   "source": [
    "**`array.shape`**"
   ]
  },
  {
   "cell_type": "code",
   "execution_count": 5,
   "metadata": {
    "id": "MyadgCbivZgE",
    "outputId": "8620be00-9924-4d04-91a9-100de323f562",
    "scrolled": true
   },
   "outputs": [
    {
     "data": {
      "text/plain": [
       "(5,)"
      ]
     },
     "execution_count": 5,
     "metadata": {},
     "output_type": "execute_result"
    }
   ],
   "source": [
    "# shape을 통해 array의 크기를 확인할 수 있음\n",
    "array1.shape"
   ]
  },
  {
   "cell_type": "code",
   "execution_count": 6,
   "metadata": {
    "id": "JRdARX0pmDS1",
    "outputId": "8620be00-9924-4d04-91a9-100de323f562",
    "scrolled": true
   },
   "outputs": [
    {
     "data": {
      "text/plain": [
       "(5,)"
      ]
     },
     "execution_count": 6,
     "metadata": {},
     "output_type": "execute_result"
    }
   ],
   "source": [
    "array2.shape"
   ]
  },
  {
   "cell_type": "code",
   "execution_count": 7,
   "metadata": {
    "id": "pl75WUDZvZgW",
    "outputId": "e96b845d-bc69-4c90-a84e-ced3f9e32899"
   },
   "outputs": [
    {
     "data": {
      "text/plain": [
       "(4, 3)"
      ]
     },
     "execution_count": 7,
     "metadata": {},
     "output_type": "execute_result"
    }
   ],
   "source": [
    "array3.shape"
   ]
  },
  {
   "cell_type": "code",
   "execution_count": 8,
   "metadata": {},
   "outputs": [
    {
     "name": "stdout",
     "output_type": "stream",
     "text": [
      "(5,)\n",
      "(4, 3)\n",
      "1\n",
      "2\n"
     ]
    }
   ],
   "source": [
    "### shape과 ndim의 차이 ###\n",
    "# shape => 크기(size)\n",
    "# ndim => 차원(dimension)\n",
    "\n",
    "print(array1.shape)\n",
    "print(array3.shape)\n",
    "    \n",
    "print(array1.ndim)\n",
    "print(array3.ndim)"
   ]
  },
  {
   "cell_type": "markdown",
   "metadata": {
    "id": "8uosboPJvZgM"
   },
   "source": [
    "**`array.dtype`**"
   ]
  },
  {
   "cell_type": "code",
   "execution_count": 9,
   "metadata": {
    "id": "vgQ5AlvCvZgN",
    "outputId": "3ea1d762-17b2-4b7d-84ae-633b6ea694b1"
   },
   "outputs": [
    {
     "name": "stdout",
     "output_type": "stream",
     "text": [
      "int64\n",
      "float64\n",
      "int64\n"
     ]
    }
   ],
   "source": [
    "# dtype를 통해 array의 자료형을 확인할 수 있음\n",
    "print(array1.dtype)\n",
    "print(array2.dtype)\n",
    "print(array3.dtype)"
   ]
  },
  {
   "cell_type": "markdown",
   "metadata": {
    "id": "1iYOVSzUvZgm"
   },
   "source": [
    "**`np.zeros()`**"
   ]
  },
  {
   "cell_type": "code",
   "execution_count": 10,
   "metadata": {
    "id": "NsF3Bc20vZgn",
    "outputId": "33554cc4-9124-4568-ef94-04489fe71aa6"
   },
   "outputs": [
    {
     "data": {
      "text/plain": [
       "array([0., 0., 0., 0., 0., 0., 0., 0., 0., 0.])"
      ]
     },
     "execution_count": 10,
     "metadata": {},
     "output_type": "execute_result"
    }
   ],
   "source": [
    "# zeros는 입력받은 형태로 값이 0으로 채워진 array를 생성함\n",
    "np.zeros(10)"
   ]
  },
  {
   "cell_type": "code",
   "execution_count": 11,
   "metadata": {
    "id": "Izp0EGm2vZgt",
    "outputId": "e46ba440-24fb-4f8d-fcd2-ecae6e903dfb",
    "scrolled": true
   },
   "outputs": [
    {
     "data": {
      "text/plain": [
       "array([[0., 0., 0., 0., 0.],\n",
       "       [0., 0., 0., 0., 0.],\n",
       "       [0., 0., 0., 0., 0.]])"
      ]
     },
     "execution_count": 11,
     "metadata": {},
     "output_type": "execute_result"
    }
   ],
   "source": [
    "np.zeros((3,5)) # 3 by 5"
   ]
  },
  {
   "cell_type": "markdown",
   "metadata": {
    "id": "ntGiaX_dvZgz"
   },
   "source": [
    "**`np.ones()`**"
   ]
  },
  {
   "cell_type": "code",
   "execution_count": 12,
   "metadata": {
    "id": "EYPs4nNIvZg0",
    "outputId": "ef7b3626-d829-47e6-90c3-caf4a8fadad8"
   },
   "outputs": [
    {
     "data": {
      "text/plain": [
       "array([1., 1., 1., 1., 1., 1., 1., 1., 1., 1.])"
      ]
     },
     "execution_count": 12,
     "metadata": {},
     "output_type": "execute_result"
    }
   ],
   "source": [
    "# ones는 입력받는 형태로 값이 1으로 채워진 array를 생성함\n",
    "np.ones(10)"
   ]
  },
  {
   "cell_type": "code",
   "execution_count": 13,
   "metadata": {
    "id": "HZzyVHncvZg3",
    "outputId": "77c7a10a-5164-4469-b28b-a9f59269a77b"
   },
   "outputs": [
    {
     "data": {
      "text/plain": [
       "array([[1., 1., 1., 1., 1.],\n",
       "       [1., 1., 1., 1., 1.],\n",
       "       [1., 1., 1., 1., 1.]])"
      ]
     },
     "execution_count": 13,
     "metadata": {},
     "output_type": "execute_result"
    }
   ],
   "source": [
    "np.ones((3,5))"
   ]
  },
  {
   "cell_type": "markdown",
   "metadata": {
    "id": "tDmRbHyfvZg6"
   },
   "source": [
    "**`np.arange()`**"
   ]
  },
  {
   "cell_type": "code",
   "execution_count": 14,
   "metadata": {
    "id": "JKsrIW3vvZg7",
    "outputId": "1579fe72-1a46-464a-eba4-bb04ac7ceb46"
   },
   "outputs": [
    {
     "data": {
      "text/plain": [
       "array([0, 1, 2, 3, 4, 5, 6, 7, 8, 9])"
      ]
     },
     "execution_count": 14,
     "metadata": {},
     "output_type": "execute_result"
    }
   ],
   "source": [
    "# arange는 파이썬의 range와 비슷한 기능을 함\n",
    "# 인자를 한 개(n) 입력할 경우 0부터 n-1까지 1씩 증가하는 값을 갖는 array를 생성함\n",
    "np.arange(10)"
   ]
  },
  {
   "cell_type": "code",
   "execution_count": 15,
   "metadata": {
    "id": "TSM1us1tvZg-",
    "outputId": "06536b24-adaf-448f-bb88-e57124167100"
   },
   "outputs": [
    {
     "data": {
      "text/plain": [
       "array([ 1,  2,  3,  4,  5,  6,  7,  8,  9, 10, 11, 12, 13, 14, 15, 16, 17,\n",
       "       18, 19])"
      ]
     },
     "execution_count": 15,
     "metadata": {},
     "output_type": "execute_result"
    }
   ],
   "source": [
    "# 인자를 두 개(first, end) 입력할 경우 first부터 end-1까지 1씩 증가하는 값을 갖는 array를 생성함\n",
    "np.arange(1,20)"
   ]
  },
  {
   "cell_type": "code",
   "execution_count": 16,
   "metadata": {
    "id": "BVBfBP-DvZhB",
    "outputId": "82a6529a-6fd7-439f-af97-2ea2d9924233"
   },
   "outputs": [
    {
     "data": {
      "text/plain": [
       "array([ 1. ,  1.5,  2. ,  2.5,  3. ,  3.5,  4. ,  4.5,  5. ,  5.5,  6. ,\n",
       "        6.5,  7. ,  7.5,  8. ,  8.5,  9. ,  9.5, 10. , 10.5, 11. , 11.5,\n",
       "       12. , 12.5, 13. , 13.5, 14. , 14.5, 15. , 15.5, 16. , 16.5, 17. ,\n",
       "       17.5, 18. , 18.5, 19. , 19.5])"
      ]
     },
     "execution_count": 16,
     "metadata": {},
     "output_type": "execute_result"
    }
   ],
   "source": [
    "# 인자를 세 개(first, end, step) 입력할 경우 first부터 end-1까지 step씩 증가하는 값을 갖는 array를 생성함\n",
    "np.arange(1,20,0.5)"
   ]
  },
  {
   "cell_type": "markdown",
   "metadata": {
    "id": "lq5zp-QMvZhI"
   },
   "source": [
    "## 2. Array 연산"
   ]
  },
  {
   "cell_type": "markdown",
   "metadata": {
    "id": "VBNbaVu3vZhJ"
   },
   "source": [
    "**! 원칙적으로 크기가 같아야 연산 가능 !**\n",
    "- 각 array의 같은 자리에 있는 값들끼리 연산하기 때문임"
   ]
  },
  {
   "cell_type": "code",
   "execution_count": 17,
   "metadata": {
    "id": "Dn2vjhxqvZhK",
    "outputId": "85bfc03e-b592-4bd1-8466-1537ed8c10e3"
   },
   "outputs": [
    {
     "data": {
      "text/plain": [
       "array([[1, 2, 3],\n",
       "       [4, 5, 6]])"
      ]
     },
     "execution_count": 17,
     "metadata": {},
     "output_type": "execute_result"
    }
   ],
   "source": [
    "arr1 = np.array([[1,2,3],[4,5,6]])\n",
    "arr1"
   ]
  },
  {
   "cell_type": "code",
   "execution_count": 18,
   "metadata": {
    "id": "tuuQj0zxvZhP",
    "outputId": "aa31a0fd-9f16-4d4b-b7dd-9f4c436aaed7"
   },
   "outputs": [
    {
     "data": {
      "text/plain": [
       "array([[10, 11, 12],\n",
       "       [13, 14, 15]])"
      ]
     },
     "execution_count": 18,
     "metadata": {},
     "output_type": "execute_result"
    }
   ],
   "source": [
    "arr2 = np.array([[10,11,12],[13,14,15]])\n",
    "arr2"
   ]
  },
  {
   "cell_type": "code",
   "execution_count": 19,
   "metadata": {
    "id": "JK3Kg1d3vZhT",
    "outputId": "fd97c2bb-a634-4533-df7f-302768c404e2"
   },
   "outputs": [
    {
     "name": "stdout",
     "output_type": "stream",
     "text": [
      "(2, 3)\n",
      "(2, 3)\n"
     ]
    }
   ],
   "source": [
    "print(arr1.shape)\n",
    "print(arr2.shape)"
   ]
  },
  {
   "cell_type": "markdown",
   "metadata": {
    "id": "rFdY3asRvZha"
   },
   "source": [
    "**덧셈**"
   ]
  },
  {
   "cell_type": "code",
   "execution_count": 20,
   "metadata": {
    "id": "xs0RXK0TvZha",
    "outputId": "cd0640fa-97b4-4dbb-bb41-a54f981c73ae"
   },
   "outputs": [
    {
     "data": {
      "text/plain": [
       "array([[11, 13, 15],\n",
       "       [17, 19, 21]])"
      ]
     },
     "execution_count": 20,
     "metadata": {},
     "output_type": "execute_result"
    }
   ],
   "source": [
    "arr1+arr2"
   ]
  },
  {
   "cell_type": "markdown",
   "metadata": {
    "id": "-NPg1y5LvZhd"
   },
   "source": [
    "**뺄셈**"
   ]
  },
  {
   "cell_type": "code",
   "execution_count": 21,
   "metadata": {
    "id": "yhXEHmuzvZhd",
    "outputId": "019211d7-b6ab-4180-dc4b-c3d513eadee4"
   },
   "outputs": [
    {
     "data": {
      "text/plain": [
       "array([[-9, -9, -9],\n",
       "       [-9, -9, -9]])"
      ]
     },
     "execution_count": 21,
     "metadata": {},
     "output_type": "execute_result"
    }
   ],
   "source": [
    "arr1-arr2"
   ]
  },
  {
   "cell_type": "markdown",
   "metadata": {
    "id": "BSFTG3a6vZhi"
   },
   "source": [
    "**곱셈**\n",
    "- 주의!\n",
    "- `array1*array2` : element-wise product\n",
    "- `array1.dot(array2)` : inner product(dot product) of matrix"
   ]
  },
  {
   "cell_type": "code",
   "execution_count": 22,
   "metadata": {
    "id": "JmEORuZhvZhj",
    "outputId": "9b807b29-dbb4-4937-b23b-f8e2c4c4d78d"
   },
   "outputs": [
    {
     "data": {
      "text/plain": [
       "array([[10, 22, 36],\n",
       "       [52, 70, 90]])"
      ]
     },
     "execution_count": 22,
     "metadata": {},
     "output_type": "execute_result"
    }
   ],
   "source": [
    "arr1*arr2"
   ]
  },
  {
   "cell_type": "code",
   "execution_count": 23,
   "metadata": {
    "id": "6ueMZAIgvZho",
    "outputId": "eba5db88-23f0-4976-cef6-ff88672d20b9"
   },
   "outputs": [
    {
     "name": "stdout",
     "output_type": "stream",
     "text": [
      "[ 1  2  3  4  5  6  7  8  9 10]\n",
      "[11 12 13 14 15 16 17 18 19 20]\n",
      "[ 11  24  39  56  75  96 119 144 171 200]\n",
      "935\n"
     ]
    }
   ],
   "source": [
    "a = np.arange(1, 11)\n",
    "b = np.arange(11, 21)\n",
    "print(a)\n",
    "print(b)\n",
    "print(a*b)\n",
    "print(a.dot(b))"
   ]
  },
  {
   "cell_type": "code",
   "execution_count": 24,
   "metadata": {},
   "outputs": [
    {
     "name": "stdout",
     "output_type": "stream",
     "text": [
      "[[ 1  2  3  4  5]\n",
      " [ 6  7  8  9 10]]\n",
      "[[11 12]\n",
      " [13 14]\n",
      " [15 16]\n",
      " [17 18]\n",
      " [19 20]]\n",
      "[[245 260]\n",
      " [620 660]]\n"
     ]
    }
   ],
   "source": [
    "a = np.arange(1, 11).reshape(2,5) # 2 by 5\n",
    "b = np.arange(11, 21).reshape(5,2) # 5 by 2\n",
    "print(a)\n",
    "print(b)\n",
    "#print(a*b) => error\n",
    "print(a.dot(b)) # 2 by 2"
   ]
  },
  {
   "cell_type": "markdown",
   "metadata": {
    "id": "E1KEfVKyvZhu"
   },
   "source": [
    "#### 나눗셈"
   ]
  },
  {
   "cell_type": "code",
   "execution_count": 25,
   "metadata": {
    "id": "2tA-VRYjvZhx",
    "outputId": "c9b0a874-72ac-4526-f09e-4fe2356cf53e"
   },
   "outputs": [
    {
     "data": {
      "text/plain": [
       "array([[0.1       , 0.18181818, 0.25      ],\n",
       "       [0.30769231, 0.35714286, 0.4       ]])"
      ]
     },
     "execution_count": 25,
     "metadata": {},
     "output_type": "execute_result"
    }
   ],
   "source": [
    "arr1/arr2"
   ]
  },
  {
   "cell_type": "markdown",
   "metadata": {
    "id": "5Plqwi_IvZh2"
   },
   "source": [
    "**! 원칙적으로 shape가 같아야 연산 가능하지만 브로드캐스팅이 가능 !**\n",
    "\n",
    "- numpy에서 브로드캐스팅이란 서로 크기가 다른 array가 연산이 가능하게 하는 것을 말함"
   ]
  },
  {
   "cell_type": "code",
   "execution_count": 26,
   "metadata": {
    "id": "pfiX74zsvZh3",
    "outputId": "aa5a2a64-1bc9-4b4e-e321-392f78c64c89"
   },
   "outputs": [
    {
     "data": {
      "text/plain": [
       "array([[1, 2, 3],\n",
       "       [4, 5, 6]])"
      ]
     },
     "execution_count": 26,
     "metadata": {},
     "output_type": "execute_result"
    }
   ],
   "source": [
    "arr1"
   ]
  },
  {
   "cell_type": "code",
   "execution_count": 27,
   "metadata": {
    "id": "xGzQluc3vZh6",
    "outputId": "e837466c-7c0d-4773-94d1-b80450d42b3d"
   },
   "outputs": [
    {
     "data": {
      "text/plain": [
       "(2, 3)"
      ]
     },
     "execution_count": 27,
     "metadata": {},
     "output_type": "execute_result"
    }
   ],
   "source": [
    "arr1.shape"
   ]
  },
  {
   "cell_type": "code",
   "execution_count": 28,
   "metadata": {
    "id": "irGbms55vZh9",
    "outputId": "d59abd5f-fc37-4769-834d-32148be7b51a"
   },
   "outputs": [
    {
     "data": {
      "text/plain": [
       "array([10, 11, 12])"
      ]
     },
     "execution_count": 28,
     "metadata": {},
     "output_type": "execute_result"
    }
   ],
   "source": [
    "arr3 = np.array([10, 11, 12])\n",
    "arr3"
   ]
  },
  {
   "cell_type": "code",
   "execution_count": 29,
   "metadata": {
    "id": "sfBf_BeBvZiA",
    "outputId": "f98b0fd6-1da1-420f-dff1-c6326f15a56c"
   },
   "outputs": [
    {
     "data": {
      "text/plain": [
       "(3,)"
      ]
     },
     "execution_count": 29,
     "metadata": {},
     "output_type": "execute_result"
    }
   ],
   "source": [
    "arr3.shape"
   ]
  },
  {
   "cell_type": "code",
   "execution_count": 30,
   "metadata": {
    "id": "ERobwzaPvZiD",
    "outputId": "1346c5e5-0b58-405a-de08-d9b94350a9a3"
   },
   "outputs": [
    {
     "data": {
      "text/plain": [
       "array([[11, 13, 15],\n",
       "       [14, 16, 18]])"
      ]
     },
     "execution_count": 30,
     "metadata": {},
     "output_type": "execute_result"
    }
   ],
   "source": [
    "# 덧셈\n",
    "arr1+arr3"
   ]
  },
  {
   "cell_type": "code",
   "execution_count": 31,
   "metadata": {
    "id": "wmIVjnyivZiJ",
    "outputId": "9013d1a1-0f8d-4f21-b0e8-dc4d808ff447"
   },
   "outputs": [
    {
     "data": {
      "text/plain": [
       "array([[10, 22, 36],\n",
       "       [40, 55, 72]])"
      ]
     },
     "execution_count": 31,
     "metadata": {},
     "output_type": "execute_result"
    }
   ],
   "source": [
    "# 곱셈\n",
    "arr1*arr3"
   ]
  },
  {
   "cell_type": "code",
   "execution_count": 32,
   "metadata": {
    "id": "5vlguzK7vZiQ",
    "outputId": "d29a9384-7372-4412-d306-136e46d4b2cd"
   },
   "outputs": [
    {
     "data": {
      "text/plain": [
       "array([[10, 20, 30],\n",
       "       [40, 50, 60]])"
      ]
     },
     "execution_count": 32,
     "metadata": {},
     "output_type": "execute_result"
    }
   ],
   "source": [
    "# 스칼라곱\n",
    "arr1 * 10"
   ]
  },
  {
   "cell_type": "markdown",
   "metadata": {
    "id": "ieXHOPjYvZiV"
   },
   "source": [
    "## 3. Array 인덱싱"
   ]
  },
  {
   "cell_type": "markdown",
   "metadata": {
    "id": "JTxzimeyvZiV"
   },
   "source": [
    "**1차원 array 인덱싱**"
   ]
  },
  {
   "cell_type": "code",
   "execution_count": 33,
   "metadata": {
    "id": "cDp2oaiavZiX",
    "outputId": "fc20700d-c718-45fc-fbe3-073ad5a34f65"
   },
   "outputs": [
    {
     "data": {
      "text/plain": [
       "array([0, 1, 2, 3, 4, 5, 6, 7, 8, 9])"
      ]
     },
     "execution_count": 33,
     "metadata": {},
     "output_type": "execute_result"
    }
   ],
   "source": [
    "arr = np.arange(10)\n",
    "arr"
   ]
  },
  {
   "cell_type": "code",
   "execution_count": 34,
   "metadata": {
    "id": "y8pgWiJ3vZid",
    "outputId": "2b50d06e-d31f-4fa0-db55-0d655cf3d251"
   },
   "outputs": [
    {
     "data": {
      "text/plain": [
       "0"
      ]
     },
     "execution_count": 34,
     "metadata": {},
     "output_type": "execute_result"
    }
   ],
   "source": [
    "# 0번째 요소 불러옴\n",
    "arr[0]"
   ]
  },
  {
   "cell_type": "code",
   "execution_count": 35,
   "metadata": {
    "id": "h0M4iHK2vZii",
    "outputId": "01b8ce09-2b50-47bf-b52f-bb4f6f5aab1c"
   },
   "outputs": [
    {
     "data": {
      "text/plain": [
       "3"
      ]
     },
     "execution_count": 35,
     "metadata": {},
     "output_type": "execute_result"
    }
   ],
   "source": [
    "# 3번째 요소 불러옴\n",
    "arr[3]"
   ]
  },
  {
   "cell_type": "code",
   "execution_count": 36,
   "metadata": {
    "id": "JsrC93tivZik",
    "outputId": "d3b28808-1600-4246-c8c7-fd21dc5dca25"
   },
   "outputs": [
    {
     "data": {
      "text/plain": [
       "array([3, 4, 5, 6, 7, 8])"
      ]
     },
     "execution_count": 36,
     "metadata": {},
     "output_type": "execute_result"
    }
   ],
   "source": [
    "# 3번째 요소부터 8번째 요소를 불러옴\n",
    "arr[3:9]"
   ]
  },
  {
   "cell_type": "code",
   "execution_count": 37,
   "metadata": {
    "id": "5Ofoq9yUvZin",
    "outputId": "a335927b-6176-4223-e352-e32174765e08"
   },
   "outputs": [
    {
     "data": {
      "text/plain": [
       "array([0, 1, 2, 3, 4, 5, 6, 7, 8, 9])"
      ]
     },
     "execution_count": 37,
     "metadata": {},
     "output_type": "execute_result"
    }
   ],
   "source": [
    "# 전체를 불러옴\n",
    "arr[:]"
   ]
  },
  {
   "cell_type": "markdown",
   "metadata": {
    "id": "D96FIhXVvZit"
   },
   "source": [
    "**2차원 array 인덱싱**"
   ]
  },
  {
   "cell_type": "code",
   "execution_count": 38,
   "metadata": {
    "id": "vh0__ivOvZiu",
    "outputId": "8eb257ee-ee73-40fa-b12c-0dfe9870cbb0"
   },
   "outputs": [
    {
     "data": {
      "text/plain": [
       "array([[ 1,  2,  3,  4],\n",
       "       [ 5,  6,  7,  8],\n",
       "       [ 9, 10, 11, 12]])"
      ]
     },
     "execution_count": 38,
     "metadata": {},
     "output_type": "execute_result"
    }
   ],
   "source": [
    "arr = np.array([[1,2,3,4],\n",
    "                [5,6,7,8],\n",
    "                [9,10,11,12]])\n",
    "arr"
   ]
  },
  {
   "cell_type": "code",
   "execution_count": 39,
   "metadata": {
    "id": "WU67-XfPvZi2",
    "outputId": "b80e37e4-f405-4c7a-eaa4-7f6b9d6118d2"
   },
   "outputs": [
    {
     "data": {
      "text/plain": [
       "1"
      ]
     },
     "execution_count": 39,
     "metadata": {},
     "output_type": "execute_result"
    }
   ],
   "source": [
    "# 2차원 array를 인덱싱을 하기 위해서는 인덱스를 두개 입력해야 함\n",
    "arr[0,0] # 0행 0열"
   ]
  },
  {
   "cell_type": "code",
   "execution_count": 40,
   "metadata": {
    "id": "tpWd9a9SvZi9",
    "outputId": "c49e6f68-ad32-4849-ffb2-4ee52cd62c7e"
   },
   "outputs": [
    {
     "data": {
      "text/plain": [
       "array([ 9, 10, 11, 12])"
      ]
     },
     "execution_count": 40,
     "metadata": {},
     "output_type": "execute_result"
    }
   ],
   "source": [
    "# 2번째 array의 전체를 불러옴\n",
    "arr[2,:] # 2행 전체"
   ]
  },
  {
   "cell_type": "code",
   "execution_count": 41,
   "metadata": {
    "id": "r796GvCSvZjD",
    "outputId": "e8e2ab61-a08e-43c2-c486-3e4bed8681c2"
   },
   "outputs": [
    {
     "data": {
      "text/plain": [
       "12"
      ]
     },
     "execution_count": 41,
     "metadata": {},
     "output_type": "execute_result"
    }
   ],
   "source": [
    "# 2번째 array의 3번째 값을 불러옴\n",
    "arr[2,3] # 2행 3열"
   ]
  },
  {
   "cell_type": "code",
   "execution_count": 42,
   "metadata": {
    "id": "4LopnOKQvZjF",
    "outputId": "d635c2f3-1704-4560-9101-1d9d69fdfd32"
   },
   "outputs": [
    {
     "data": {
      "text/plain": [
       "array([ 4,  8, 12])"
      ]
     },
     "execution_count": 42,
     "metadata": {},
     "output_type": "execute_result"
    }
   ],
   "source": [
    "# 모든 array의 3번째 값을 불러옴\n",
    "arr[:,3] # 3열 전체"
   ]
  },
  {
   "cell_type": "markdown",
   "metadata": {
    "id": "QeS3E8E_vZjH"
   },
   "source": [
    "**필터링을 통한 인덱싱**"
   ]
  },
  {
   "cell_type": "code",
   "execution_count": 43,
   "metadata": {
    "id": "6GRVphkHvZjI",
    "outputId": "49ac1525-f757-4b09-ecbf-31177e0a1256"
   },
   "outputs": [
    {
     "data": {
      "text/plain": [
       "array([10, 11, 12, 13, 14, 15, 16, 17, 18, 19])"
      ]
     },
     "execution_count": 43,
     "metadata": {},
     "output_type": "execute_result"
    }
   ],
   "source": [
    "arr = np.arange(10, 20)\n",
    "arr"
   ]
  },
  {
   "cell_type": "code",
   "execution_count": 44,
   "metadata": {
    "id": "futjUe2HvZjK",
    "outputId": "89ead856-0d38-415d-8285-a7000e7d4f87"
   },
   "outputs": [
    {
     "data": {
      "text/plain": [
       "array([False, False, False,  True,  True,  True,  True,  True,  True,\n",
       "        True])"
      ]
     },
     "execution_count": 44,
     "metadata": {},
     "output_type": "execute_result"
    }
   ],
   "source": [
    "# boolean으로 확인함\n",
    "arr>12"
   ]
  },
  {
   "cell_type": "code",
   "execution_count": 45,
   "metadata": {
    "id": "8NJtgHkbvZjQ",
    "outputId": "0584aa3b-82ce-4981-cd49-abf3eecca8d4"
   },
   "outputs": [
    {
     "data": {
      "text/plain": [
       "array([13, 14, 15, 16, 17, 18, 19])"
      ]
     },
     "execution_count": 45,
     "metadata": {},
     "output_type": "execute_result"
    }
   ],
   "source": [
    "# array에서 조건에 맞는(=필터링 된) 값만 불러옴\n",
    "arr[arr>12]"
   ]
  },
  {
   "cell_type": "code",
   "execution_count": 46,
   "metadata": {
    "id": "bl5NmgF8vZjc",
    "outputId": "ebc2d875-3577-459b-fb5b-94dbb2a8c9aa"
   },
   "outputs": [
    {
     "data": {
      "text/plain": [
       "(array([3, 4, 5, 6, 7, 8, 9]),)"
      ]
     },
     "execution_count": 46,
     "metadata": {},
     "output_type": "execute_result"
    }
   ],
   "source": [
    "# 조건에 맞는 값들의 인덱스를 불러옴\n",
    "# 즉 np.where()은 인덱스를 반환함\n",
    "np.where(arr>12)"
   ]
  },
  {
   "cell_type": "code",
   "execution_count": 47,
   "metadata": {
    "id": "R6YD6xIdvZjl",
    "outputId": "32278c59-f196-4218-878c-8dc2949be925"
   },
   "outputs": [
    {
     "data": {
      "text/plain": [
       "array(['X', 'X', 'X', 'O', 'O', 'O', 'O', 'O', 'O', 'O'], dtype='<U1')"
      ]
     },
     "execution_count": 47,
     "metadata": {},
     "output_type": "execute_result"
    }
   ],
   "source": [
    "np.where(arr>12, 'O', 'X')"
   ]
  },
  {
   "cell_type": "markdown",
   "metadata": {
    "id": "ffC2FX64vZjs"
   },
   "source": [
    "## 4. 자주 쓰이는 Numpy 함수"
   ]
  },
  {
   "cell_type": "markdown",
   "metadata": {
    "id": "bi59TakKvZjs"
   },
   "source": [
    "**`np.concatenate()`** : 결합\n",
    "- 주의\n",
    "- 가로/세로 결합에 따라 row/column 개수가 맞아야 결합이 가능함"
   ]
  },
  {
   "cell_type": "code",
   "execution_count": 48,
   "metadata": {
    "id": "m1WJw_OkvZjt",
    "outputId": "83c1076f-63fe-4e9b-8631-20395c97e3a2"
   },
   "outputs": [
    {
     "data": {
      "text/plain": [
       "array([[1, 2, 3],\n",
       "       [4, 5, 6]])"
      ]
     },
     "execution_count": 48,
     "metadata": {},
     "output_type": "execute_result"
    }
   ],
   "source": [
    "arr1"
   ]
  },
  {
   "cell_type": "code",
   "execution_count": 49,
   "metadata": {
    "id": "uPq_dB0svZjw",
    "outputId": "94e214dc-6fb1-48be-ba38-471a5981a256"
   },
   "outputs": [
    {
     "data": {
      "text/plain": [
       "array([[10, 11, 12],\n",
       "       [13, 14, 15]])"
      ]
     },
     "execution_count": 49,
     "metadata": {},
     "output_type": "execute_result"
    }
   ],
   "source": [
    "arr2"
   ]
  },
  {
   "cell_type": "code",
   "execution_count": 50,
   "metadata": {
    "id": "2tLuYPnSvZj2",
    "outputId": "34ed3aed-4892-4667-c3b7-f0a33eda8fdf"
   },
   "outputs": [
    {
     "name": "stdout",
     "output_type": "stream",
     "text": [
      "[[ 1  2  3]\n",
      " [ 4  5  6]\n",
      " [10 11 12]\n",
      " [13 14 15]]\n"
     ]
    }
   ],
   "source": [
    "# 수평축(axis=0, default)으로 결합함\n",
    "arr_concat_0 = np.concatenate((arr1, arr2))\n",
    "print(arr_concat_0)"
   ]
  },
  {
   "cell_type": "code",
   "execution_count": 51,
   "metadata": {
    "id": "l6iuZgqPvZj6",
    "outputId": "d52c6016-3685-4a04-f85d-546bc8bd16f7"
   },
   "outputs": [
    {
     "name": "stdout",
     "output_type": "stream",
     "text": [
      "[[ 1  2  3 10 11 12]\n",
      " [ 4  5  6 13 14 15]]\n"
     ]
    }
   ],
   "source": [
    "# 수직축(axis=1)으로 결합함\n",
    "arr_concat_1 = np.concatenate((arr1, arr2), axis=1)\n",
    "print(arr_concat_1)"
   ]
  },
  {
   "cell_type": "markdown",
   "metadata": {
    "id": "L1iZqFKnvZj8"
   },
   "source": [
    "**`array.reshape()`** : 재배열\n",
    "- reshape(행 수, 열 수)\n",
    "- resahpe(-1) : 원래 array의 크기로부터 남은 부분을 추정해서 재배열 함"
   ]
  },
  {
   "cell_type": "code",
   "execution_count": 52,
   "metadata": {
    "id": "FCKf30igvZj9",
    "outputId": "084afe12-d61d-4d2f-ddf0-6af402700bf5"
   },
   "outputs": [
    {
     "data": {
      "text/plain": [
       "array([0, 1, 2, 3, 4, 5, 6, 7, 8, 9])"
      ]
     },
     "execution_count": 52,
     "metadata": {},
     "output_type": "execute_result"
    }
   ],
   "source": [
    "arr = np.arange(10)\n",
    "arr"
   ]
  },
  {
   "cell_type": "code",
   "execution_count": 53,
   "metadata": {
    "id": "QuHUE7DTvZkB",
    "outputId": "7c574e11-5bc2-4c4d-cf0a-2bd0a9ade8f5"
   },
   "outputs": [
    {
     "name": "stdout",
     "output_type": "stream",
     "text": [
      "(10,)\n",
      "1\n"
     ]
    }
   ],
   "source": [
    "print(arr.shape)\n",
    "print(arr.ndim)"
   ]
  },
  {
   "cell_type": "code",
   "execution_count": 54,
   "metadata": {
    "id": "eYnGHcz2vZkJ",
    "outputId": "f4b1ffe7-9362-47b1-e095-167ba78287b0"
   },
   "outputs": [
    {
     "data": {
      "text/plain": [
       "array([[0, 1, 2, 3, 4],\n",
       "       [5, 6, 7, 8, 9]])"
      ]
     },
     "execution_count": 54,
     "metadata": {},
     "output_type": "execute_result"
    }
   ],
   "source": [
    "arr_reshape_1 = arr.reshape(2, 5)\n",
    "arr_reshape_1"
   ]
  },
  {
   "cell_type": "code",
   "execution_count": 55,
   "metadata": {},
   "outputs": [
    {
     "name": "stdout",
     "output_type": "stream",
     "text": [
      "(2, 5)\n",
      "2\n"
     ]
    }
   ],
   "source": [
    "print(arr_reshape_1.shape)\n",
    "print(arr_reshape_1.ndim)"
   ]
  },
  {
   "cell_type": "code",
   "execution_count": 56,
   "metadata": {
    "id": "-Lyp7sbHvZkO",
    "outputId": "80315917-e02f-4af0-f94a-e42b285cd5a4"
   },
   "outputs": [
    {
     "data": {
      "text/plain": [
       "array([[0, 1],\n",
       "       [2, 3],\n",
       "       [4, 5],\n",
       "       [6, 7],\n",
       "       [8, 9]])"
      ]
     },
     "execution_count": 56,
     "metadata": {},
     "output_type": "execute_result"
    }
   ],
   "source": [
    "arr_reshape_2 = arr.reshape(5, 2)\n",
    "arr_reshape_2"
   ]
  },
  {
   "cell_type": "code",
   "execution_count": 57,
   "metadata": {},
   "outputs": [
    {
     "name": "stdout",
     "output_type": "stream",
     "text": [
      "(5, 2)\n",
      "2\n"
     ]
    }
   ],
   "source": [
    "print(arr_reshape_2.shape)\n",
    "print(arr_reshape_2.ndim)"
   ]
  },
  {
   "cell_type": "code",
   "execution_count": 58,
   "metadata": {
    "id": "TyUKmwdrvZkV",
    "outputId": "c81b48e8-0443-4b49-a128-7bfec209bb81"
   },
   "outputs": [
    {
     "data": {
      "text/plain": [
       "array([[0, 1],\n",
       "       [2, 3],\n",
       "       [4, 5],\n",
       "       [6, 7],\n",
       "       [8, 9]])"
      ]
     },
     "execution_count": 58,
     "metadata": {},
     "output_type": "execute_result"
    }
   ],
   "source": [
    "arr_reshape_3 = arr.reshape(5, -1)\n",
    "arr_reshape_3"
   ]
  },
  {
   "cell_type": "code",
   "execution_count": 59,
   "metadata": {},
   "outputs": [
    {
     "name": "stdout",
     "output_type": "stream",
     "text": [
      "(5, 2)\n",
      "2\n"
     ]
    }
   ],
   "source": [
    "print(arr_reshape_3.shape)\n",
    "print(arr_reshape_3.ndim)"
   ]
  },
  {
   "cell_type": "markdown",
   "metadata": {
    "id": "e_c31RfBvZkX"
   },
   "source": [
    "**`np.argmax()`, `np.argmin()`**"
   ]
  },
  {
   "cell_type": "code",
   "execution_count": 60,
   "metadata": {
    "id": "zMnqlGW3vZkY",
    "outputId": "9dae4b1c-4bd3-48b7-b281-65463765dfb1"
   },
   "outputs": [
    {
     "data": {
      "text/plain": [
       "array([[1, 2, 3],\n",
       "       [4, 5, 6]])"
      ]
     },
     "execution_count": 60,
     "metadata": {},
     "output_type": "execute_result"
    }
   ],
   "source": [
    "arr1"
   ]
  },
  {
   "cell_type": "code",
   "execution_count": 61,
   "metadata": {
    "id": "uN5mJJaIvZka",
    "outputId": "4465b40e-847f-4c2f-9777-8a0faaa272c8"
   },
   "outputs": [
    {
     "data": {
      "text/plain": [
       "5"
      ]
     },
     "execution_count": 61,
     "metadata": {},
     "output_type": "execute_result"
    }
   ],
   "source": [
    "np.argmax(arr1)"
   ]
  },
  {
   "cell_type": "code",
   "execution_count": 62,
   "metadata": {
    "id": "j7r3v61HvZkb",
    "outputId": "508a981c-42ba-4a82-f84b-2d94b1c4057a"
   },
   "outputs": [
    {
     "data": {
      "text/plain": [
       "0"
      ]
     },
     "execution_count": 62,
     "metadata": {},
     "output_type": "execute_result"
    }
   ],
   "source": [
    "np.argmin(arr1)"
   ]
  }
 ],
 "metadata": {
  "colab": {
   "name": "Numpy.ipynb",
   "provenance": []
  },
  "kernelspec": {
   "display_name": "Python 3",
   "language": "python",
   "name": "python3"
  },
  "language_info": {
   "codemirror_mode": {
    "name": "ipython",
    "version": 3
   },
   "file_extension": ".py",
   "mimetype": "text/x-python",
   "name": "python",
   "nbconvert_exporter": "python",
   "pygments_lexer": "ipython3",
   "version": "3.8.5"
  }
 },
 "nbformat": 4,
 "nbformat_minor": 1
}
